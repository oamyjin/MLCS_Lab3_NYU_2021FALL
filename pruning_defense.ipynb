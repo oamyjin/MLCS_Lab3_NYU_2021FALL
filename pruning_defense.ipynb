{
  "nbformat": 4,
  "nbformat_minor": 0,
  "metadata": {
    "colab": {
      "name": "MLCS Lab3 _ jl11523",
      "provenance": [],
      "collapsed_sections": []
    },
    "kernelspec": {
      "name": "python3",
      "display_name": "Python 3"
    },
    "language_info": {
      "name": "python"
    }
  },
  "cells": [
    {
      "cell_type": "markdown",
      "source": [
        "# Prepare Dataset"
      ],
      "metadata": {
        "id": "YZZ91hi55rea"
      }
    },
    {
      "cell_type": "markdown",
      "source": [
        "Download data and model"
      ],
      "metadata": {
        "id": "Jxj-pKnDKUVR"
      }
    },
    {
      "cell_type": "code",
      "source": [
        "!unzip -uq bd.zip -d data\n",
        "!unzip -uq cl.zip -d data\n",
        "!wget https://github.com/csaw-hackml/CSAW-HackML-2020/raw/master/lab3/models/bd_net.h5"
      ],
      "metadata": {
        "colab": {
          "base_uri": "https://localhost:8080/"
        },
        "id": "y-KoKILCCfNH",
        "outputId": "121cd284-1f3b-4ba0-eda1-ef112908d05a"
      },
      "execution_count": null,
      "outputs": [
        {
          "output_type": "stream",
          "name": "stdout",
          "text": [
            "--2021-12-16 23:04:45--  https://github.com/csaw-hackml/CSAW-HackML-2020/raw/master/lab3/models/bd_net.h5\n",
            "Resolving github.com (github.com)... 140.82.112.3\n",
            "Connecting to github.com (github.com)|140.82.112.3|:443... connected.\n",
            "HTTP request sent, awaiting response... 302 Found\n",
            "Location: https://raw.githubusercontent.com/csaw-hackml/CSAW-HackML-2020/master/lab3/models/bd_net.h5 [following]\n",
            "--2021-12-16 23:04:45--  https://raw.githubusercontent.com/csaw-hackml/CSAW-HackML-2020/master/lab3/models/bd_net.h5\n",
            "Resolving raw.githubusercontent.com (raw.githubusercontent.com)... 185.199.109.133, 185.199.110.133, 185.199.111.133, ...\n",
            "Connecting to raw.githubusercontent.com (raw.githubusercontent.com)|185.199.109.133|:443... connected.\n",
            "HTTP request sent, awaiting response... 200 OK\n",
            "Length: 7275748 (6.9M) [application/octet-stream]\n",
            "Saving to: ‘bd_net.h5.1’\n",
            "\n",
            "bd_net.h5.1         100%[===================>]   6.94M  --.-KB/s    in 0.09s   \n",
            "\n",
            "2021-12-16 23:04:46 (78.2 MB/s) - ‘bd_net.h5.1’ saved [7275748/7275748]\n",
            "\n"
          ]
        }
      ]
    },
    {
      "cell_type": "markdown",
      "source": [
        "Load data and model"
      ],
      "metadata": {
        "id": "ldHT0vRk71-m"
      }
    },
    {
      "cell_type": "code",
      "source": [
        "import h5py\n",
        "import numpy as np\n",
        "import keras\n",
        "import tensorflow as tf\n",
        "import matplotlib.pyplot as plt"
      ],
      "metadata": {
        "id": "-cg0b-X370Id"
      },
      "execution_count": 2,
      "outputs": []
    },
    {
      "cell_type": "code",
      "source": [
        "cl_va_data = h5py.File(\"data/cl/cl/valid.h5\", 'r')\n",
        "bd_va_data = h5py.File(\"data/bd/bd/bd_valid.h5\", 'r')\n",
        "cl_ts_data = h5py.File(\"data/cl/cl/test.h5\", 'r')\n",
        "bd_ts_data = h5py.File(\"data/bd/bd/bd_test.h5\", 'r')\n",
        "\n",
        "cl_va_x = np.array(cl_va_data['data']).transpose((0,2,3,1))\n",
        "cl_va_y = np.array(cl_va_data['label'])\n",
        "bd_va_x = np.array(bd_va_data['data']).transpose((0,2,3,1))\n",
        "bd_va_y = np.array(bd_va_data['label'])\n",
        "cl_ts_x = np.array(cl_ts_data['data']).transpose((0,2,3,1))\n",
        "cl_ts_y = np.array(cl_ts_data['label'])\n",
        "bd_ts_x = np.array(bd_ts_data['data']).transpose((0,2,3,1))\n",
        "bd_ts_y = np.array(bd_ts_data['label'])\n",
        "\n",
        "print(cl_va_x.shape)\n",
        "print(cl_va_y.shape)\n",
        "print(bd_va_x.shape)\n",
        "print(bd_va_y.shape)\n",
        "print(cl_ts_x.shape)\n",
        "print(cl_ts_y.shape)\n",
        "print(bd_ts_x.shape)\n",
        "print(bd_ts_y.shape)"
      ],
      "metadata": {
        "colab": {
          "base_uri": "https://localhost:8080/"
        },
        "id": "S_JajH7PFD0k",
        "outputId": "23a8b09c-5989-4a5b-c803-513e1b344911"
      },
      "execution_count": 3,
      "outputs": [
        {
          "output_type": "stream",
          "name": "stdout",
          "text": [
            "(11547, 55, 47, 3)\n",
            "(11547,)\n",
            "(11547, 55, 47, 3)\n",
            "(11547,)\n",
            "(12830, 55, 47, 3)\n",
            "(12830,)\n",
            "(12830, 55, 47, 3)\n",
            "(12830,)\n"
          ]
        }
      ]
    },
    {
      "cell_type": "code",
      "source": [
        "BadNet = keras.models.load_model(\"bd_net.h5\")"
      ],
      "metadata": {
        "id": "d5h6ZypSFRjB"
      },
      "execution_count": 4,
      "outputs": []
    },
    {
      "cell_type": "code",
      "source": [
        "# test on original model\n",
        "cl_pred = np.argmax(BadNet.predict(cl_va_x), axis=1)\n",
        "cl_acc = np.mean(np.equal(cl_pred, cl_va_y))\n",
        "bd_pred = np.argmax(BadNet.predict(bd_va_x), axis=1)\n",
        "bd_acc = np.mean(np.equal(bd_pred, bd_va_y))\n",
        "\n",
        "print(\"Accuracy on the clean dataset\", cl_acc)\n",
        "print('Success rate of attact backdoored dataset:', bd_acc)"
      ],
      "metadata": {
        "colab": {
          "base_uri": "https://localhost:8080/"
        },
        "id": "0_trR6k8GWIN",
        "outputId": "907bf1f0-7d04-42b4-866e-d2742ea1bc1c"
      },
      "execution_count": 5,
      "outputs": [
        {
          "output_type": "stream",
          "name": "stdout",
          "text": [
            "Accuracy on the clean dataset 0.9864899974019226\n",
            "Success rate of attact backdoored dataset: 1.0\n"
          ]
        }
      ]
    },
    {
      "cell_type": "markdown",
      "source": [
        "# Pruning Defense"
      ],
      "metadata": {
        "id": "idLGwtebJJiR"
      }
    },
    {
      "cell_type": "markdown",
      "source": [
        "Print the backdoored model information to find the last pooling layer and the number of total classes"
      ],
      "metadata": {
        "id": "e9QNfRViJeM5"
      }
    },
    {
      "cell_type": "code",
      "source": [
        "BadNet.summary()"
      ],
      "metadata": {
        "colab": {
          "base_uri": "https://localhost:8080/"
        },
        "id": "Upw4Bb43Jdvb",
        "outputId": "d6a5ee96-eef6-459d-82f2-048870a0cf13"
      },
      "execution_count": 6,
      "outputs": [
        {
          "output_type": "stream",
          "name": "stdout",
          "text": [
            "Model: \"model_1\"\n",
            "__________________________________________________________________________________________________\n",
            " Layer (type)                   Output Shape         Param #     Connected to                     \n",
            "==================================================================================================\n",
            " input (InputLayer)             [(None, 55, 47, 3)]  0           []                               \n",
            "                                                                                                  \n",
            " conv_1 (Conv2D)                (None, 52, 44, 20)   980         ['input[0][0]']                  \n",
            "                                                                                                  \n",
            " pool_1 (MaxPooling2D)          (None, 26, 22, 20)   0           ['conv_1[0][0]']                 \n",
            "                                                                                                  \n",
            " conv_2 (Conv2D)                (None, 24, 20, 40)   7240        ['pool_1[0][0]']                 \n",
            "                                                                                                  \n",
            " pool_2 (MaxPooling2D)          (None, 12, 10, 40)   0           ['conv_2[0][0]']                 \n",
            "                                                                                                  \n",
            " conv_3 (Conv2D)                (None, 10, 8, 60)    21660       ['pool_2[0][0]']                 \n",
            "                                                                                                  \n",
            " pool_3 (MaxPooling2D)          (None, 5, 4, 60)     0           ['conv_3[0][0]']                 \n",
            "                                                                                                  \n",
            " conv_4 (Conv2D)                (None, 4, 3, 80)     19280       ['pool_3[0][0]']                 \n",
            "                                                                                                  \n",
            " flatten_1 (Flatten)            (None, 1200)         0           ['pool_3[0][0]']                 \n",
            "                                                                                                  \n",
            " flatten_2 (Flatten)            (None, 960)          0           ['conv_4[0][0]']                 \n",
            "                                                                                                  \n",
            " fc_1 (Dense)                   (None, 160)          192160      ['flatten_1[0][0]']              \n",
            "                                                                                                  \n",
            " fc_2 (Dense)                   (None, 160)          153760      ['flatten_2[0][0]']              \n",
            "                                                                                                  \n",
            " add_1 (Add)                    (None, 160)          0           ['fc_1[0][0]',                   \n",
            "                                                                  'fc_2[0][0]']                   \n",
            "                                                                                                  \n",
            " activation_1 (Activation)      (None, 160)          0           ['add_1[0][0]']                  \n",
            "                                                                                                  \n",
            " output (Dense)                 (None, 1283)         206563      ['activation_1[0][0]']           \n",
            "                                                                                                  \n",
            "==================================================================================================\n",
            "Total params: 601,643\n",
            "Trainable params: 601,643\n",
            "Non-trainable params: 0\n",
            "__________________________________________________________________________________________________\n"
          ]
        }
      ]
    },
    {
      "cell_type": "markdown",
      "source": [
        "Get the activation list with increading order"
      ],
      "metadata": {
        "id": "pHbO2aLz38uc"
      }
    },
    {
      "cell_type": "code",
      "source": [
        "# split the whole BadNet into 2 subNet by the last pooling layer \n",
        "subNet1 = keras.Model(inputs = BadNet.input, outputs = BadNet.layers[6].output)\n",
        "subNet2 = keras.Model(inputs = BadNet.layers[7].input, outputs = BadNet.output)\n",
        "# get the output value after the last pooling layer \n",
        "activations = subNet1.predict(cl_va_x)\n",
        "print(activations.shape)\n",
        "# calculate the average values\n",
        "avg_activations = np.mean(activations, axis=0)\n",
        "# the indexes in increasing order\n",
        "ordered_indexes = np.unravel_index(np.argsort(avg_activations, axis=None), avg_activations.shape)\n",
        "print(len(ordered_indexes))"
      ],
      "metadata": {
        "colab": {
          "base_uri": "https://localhost:8080/"
        },
        "id": "uZOFfN_TPSNg",
        "outputId": "61860a08-b4fc-4336-88f5-16a7510fb82d"
      },
      "execution_count": 7,
      "outputs": [
        {
          "output_type": "stream",
          "name": "stdout",
          "text": [
            "(11547, 5, 4, 60)\n",
            "3\n"
          ]
        }
      ]
    },
    {
      "cell_type": "markdown",
      "source": [
        "Repair the bad net by pruning neurals"
      ],
      "metadata": {
        "id": "UyXDLvoq3obo"
      }
    },
    {
      "cell_type": "code",
      "source": [
        "# subNet1 --RepairedSubNet--> subNet2 \n",
        "def RepairedSubNet(custom_mask):\n",
        "  mask = tf.Variable(custom_mask, trainable=False, dtype=tf.float32)\n",
        "  masked = keras.layers.Lambda(lambda x: x * mask)(subNet1.output)\n",
        "  return keras.Model(inputs=subNet1.output, outputs=subNet2(masked))\n",
        "\n",
        "# prune the neural or not with the value of 0 or 1 \n",
        "def PruningDefense(drop_rate):\n",
        "  prune_mask = np.ones(activations[0].shape)\n",
        "  num_neurals = activations[0].shape[0] * activations[0].shape[1] * activations[0].shape[2]\n",
        "  for i in range(num_neurals):\n",
        "    # prune one neural, by setting the mask to be 0\n",
        "    prune_mask[ordered_indexes[0][i], ordered_indexes[1][i], ordered_indexes[2][i]] = 0\n",
        "    if i <= 900:\n",
        "      continue # to save time\n",
        "    repairedSubNet = RepairedSubNet(prune_mask)\n",
        "    pruned_pred = np.argmax(repairedSubNet.predict(activations), axis=1)\n",
        "    repaired_acc = np.mean(np.equal(pruned_pred, cl_va_y))\n",
        "    # stop once acheiving the drop rate\n",
        "    if repaired_acc <= cl_acc - drop_rate:\n",
        "      print(\"i:\", i, \" repaired_acc:\", repaired_acc, \" drop:\", cl_acc - repaired_acc)\n",
        "      break\n",
        "  return repairedSubNet, prune_mask"
      ],
      "metadata": {
        "id": "0AhoRU6Pp6Om"
      },
      "execution_count": 8,
      "outputs": []
    },
    {
      "cell_type": "code",
      "source": [
        "# record each mask\n",
        "path = \"models/repairedNet\"\n",
        "drop_rate = [0.02, 0.04, 0.1] # [0.02, 0.04, 0.1]\n",
        "repairedSubNets = []\n",
        "repairedSubNet = []\n",
        "masks = []\n",
        "mask = []\n",
        "for rate in drop_rate:\n",
        "  print(rate)\n",
        "  repairedSubNet, mask = PruningDefense(rate)\n",
        "  #repairedSubNet.save(path + str(rate * 100) + \".h5\")\n",
        "  repairedSubNets.append(repairedSubNet)\n",
        "  masks.append(mask)"
      ],
      "metadata": {
        "colab": {
          "base_uri": "https://localhost:8080/"
        },
        "id": "YmmQCuF2QfTF",
        "outputId": "c3c94465-1bea-41fc-fecb-0df3e2e5cbad"
      },
      "execution_count": 9,
      "outputs": [
        {
          "output_type": "stream",
          "name": "stdout",
          "text": [
            "0.02\n",
            "i: 928  repaired_acc: 0.9660517883432926  drop: 0.02043820905862992\n",
            "0.04\n",
            "i: 964  repaired_acc: 0.946306399930718  drop: 0.04018359747120459\n",
            "0.1\n",
            "i: 1023  repaired_acc: 0.8852515804970988  drop: 0.10123841690482371\n"
          ]
        }
      ]
    },
    {
      "cell_type": "markdown",
      "source": [
        "Test on test_dataset"
      ],
      "metadata": {
        "id": "dndiwwM93ixr"
      }
    },
    {
      "cell_type": "code",
      "source": [
        "def Predict(repairedNet, ts_x, ts_y):\n",
        "  original_pred = np.argmax(BadNet.predict(ts_x), axis=1)\n",
        "  pooling_activation = subNet1.predict(ts_x)\n",
        "  repaired_pred = np.argmax(repairedNet.predict(pooling_activation), axis=1)\n",
        "  ts_pred = []\n",
        "  for o_pred, r_pred in zip(original_pred, repaired_pred):\n",
        "    if o_pred == r_pred:\n",
        "      ts_pred.append(o_pred) # correct class\n",
        "    else:\n",
        "      ts_pred.append(1283) # class N+1\n",
        "  return ts_pred"
      ],
      "metadata": {
        "id": "DXf8mT4lAAVa"
      },
      "execution_count": 10,
      "outputs": []
    },
    {
      "cell_type": "code",
      "source": [
        "cl_accuracy = []\n",
        "defense_acc = []\n",
        "for RepairedNet in repairedSubNets:\n",
        "  # test on clean test dataset\n",
        "  cl_ts_pred = Predict(RepairedNet, cl_ts_x, cl_ts_y)\n",
        "  acc = np.mean(np.equal(cl_ts_pred, cl_ts_y))\n",
        "  cl_accuracy.append(acc)\n",
        "  print(\"cl:\", acc)\n",
        "\n",
        "  # test on doorback test dataset\n",
        "  bd_ts_pred = Predict(RepairedNet, bd_ts_x, bd_ts_y)\n",
        "  acc = np.mean(np.equal(bd_ts_pred, bd_ts_y))\n",
        "  defense_acc.append(acc)\n",
        "  print(\"bd:\", acc)"
      ],
      "metadata": {
        "id": "47y4FZtk4noO",
        "colab": {
          "base_uri": "https://localhost:8080/"
        },
        "outputId": "b598872a-2185-4028-aa24-c559395d037d"
      },
      "execution_count": 11,
      "outputs": [
        {
          "output_type": "stream",
          "name": "stdout",
          "text": [
            "cl: 0.9658612626656274\n",
            "bd: 0.9999220576773188\n",
            "cl: 0.9477786438035853\n",
            "bd: 0.9846453624318005\n",
            "cl: 0.8809041309431022\n",
            "bd: 0.6316445830085736\n"
          ]
        }
      ]
    },
    {
      "cell_type": "markdown",
      "source": [
        "# Plot Accuracy and Attack Success Rate"
      ],
      "metadata": {
        "id": "sem9E_pIJLsc"
      }
    },
    {
      "cell_type": "code",
      "source": [
        "acc = []\n",
        "asr = []\n",
        "per = []\n",
        "\n",
        "prune_mask = np.ones(activations[0].shape)\n",
        "num_neurals = activations[0].shape[0] * activations[0].shape[1] * activations[0].shape[2]\n",
        "for i in range(num_neurals):\n",
        "  prune_mask[ordered_indexes[0][i], ordered_indexes[1][i], ordered_indexes[2][i]] = 0\n",
        "  if i % 50 == 0:\n",
        "    per.append((i + 1) / num_neurals)\n",
        "    repairedSubNet = RepairedSubNet(prune_mask)\n",
        "    # the accuracy on clean test data\n",
        "    original_pred = np.argmax(BadNet.predict(cl_ts_x), axis=1)\n",
        "    pruned_pred = np.argmax(repairedSubNet.predict(subNet1.predict(cl_ts_x)), axis=1)\n",
        "    pruned_pred = np.where(original_pred == pruned_pred, original_pred, 1283)\n",
        "    repaired_acc = np.mean(np.equal(pruned_pred, original_pred))\n",
        "    acc.append(repaired_acc)\n",
        "    # the attack success rate on backdoored test data\n",
        "    original_pred = np.argmax(BadNet.predict(bd_ts_x), axis=1)\n",
        "    bd_pred = np.argmax(repairedSubNet.predict(subNet1.predict(bd_ts_x)), axis=1)\n",
        "    bd_pred = np.where(original_pred == bd_pred, original_pred, 1283)\n",
        "    att_suc_rate = np.mean(np.equal(bd_pred, original_pred))\n",
        "    asr.append(att_suc_rate)"
      ],
      "metadata": {
        "id": "b98d71UsJAB6"
      },
      "execution_count": 12,
      "outputs": []
    },
    {
      "cell_type": "code",
      "source": [
        "plt.figure()\n",
        "plt.plot(per, acc, label=\"Accuracy\")\n",
        "plt.plot(per, asr, label=\"Attack Success Rate\")\n",
        "plt.xlabel(\"Pruning_Fraction\")\n",
        "plt.ylabel(\"Rate\")\n",
        "plt.title('Curve for Accuracy and Attack Success Rate with the Percentage of Pruning Channels')\n",
        "plt.legend()\n",
        "plt.savefig(\"plot.png\")\n",
        "plt.show()"
      ],
      "metadata": {
        "id": "9nt5TDLCZmUe",
        "colab": {
          "base_uri": "https://localhost:8080/",
          "height": 296
        },
        "outputId": "ddc26aaa-7b76-43d7-aefe-de06232ab968"
      },
      "execution_count": 13,
      "outputs": [
        {
          "output_type": "display_data",
          "data": {
            "image/png": "[encoded data removed]",
            "text/plain": [
              "<Figure size 432x288 with 1 Axes>"
            ]
          },
          "metadata": {
            "needs_background": "light"
          }
        }
      ]
    },
    {
      "cell_type": "markdown",
      "source": [
        "As shown in the plot, the accuracy on the clean test data and the attack succuss rate is very high and stable until the percentage comes to a high value around 0.8. After that, bothe the accuracy and the attack success rate drop quickly, and the accuracy even drops before the attack success rate, which means the pruning defense doesn't work well in this case.  "
      ],
      "metadata": {
        "id": "XsjrKndDZnDM"
      }
    }
  ]
}